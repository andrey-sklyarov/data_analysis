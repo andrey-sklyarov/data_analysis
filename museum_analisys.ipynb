{
 "cells": [
  {
   "cell_type": "markdown",
   "id": "a574ca8b",
   "metadata": {},
   "source": [
    "## В этом документе представлен скрипт выгрузки данных по открытому апи из metmuseum.org/"
   ]
  },
  {
   "cell_type": "markdown",
   "id": "51f868df",
   "metadata": {},
   "source": [
    "Вначале импорт необходимых библиотек и выгрузка id картин с подсолнухами."
   ]
  },
  {
   "cell_type": "code",
   "execution_count": 1,
   "id": "7cf8f167",
   "metadata": {},
   "outputs": [],
   "source": [
    "import requests\n",
    "import pandas as pd\n",
    "import seaborn as sns\n",
    "import matplotlib.pyplot as plt"
   ]
  },
  {
   "cell_type": "code",
   "execution_count": 2,
   "id": "b2b6ece8",
   "metadata": {},
   "outputs": [],
   "source": [
    "link = 'https://collectionapi.metmuseum.org/public/collection/v1/objects/' # ссылка для выгрузки данных по объектам\n",
    "r = requests.get('https://collectionapi.metmuseum.org/public/collection/v1/search?q=sunflowers')\n",
    "res = r.json()\n",
    "sunflower_ids = res['objectIDs']"
   ]
  },
  {
   "cell_type": "markdown",
   "id": "6c64e6f9",
   "metadata": {},
   "source": [
    "Создаем пустой датафрейм, куда будут загружаться данные."
   ]
  },
  {
   "cell_type": "code",
   "execution_count": 4,
   "id": "69bd7218",
   "metadata": {},
   "outputs": [],
   "source": [
    "df = pd.DataFrame(columns = ['objectID', \n",
    "                                       'title', \n",
    "                                       'artistDisplayName', \n",
    "                                       'department', \n",
    "                                       'objectBeginDate', \n",
    "                                       'objectEndDate', \n",
    "                                       'period', \n",
    "                                       'objectName', \n",
    "                                       'culture'], \n",
    "                                        )"
   ]
  },
  {
   "cell_type": "code",
   "execution_count": 5,
   "id": "6eb94b75",
   "metadata": {},
   "outputs": [],
   "source": []
  },
  {
   "cell_type": "markdown",
   "id": "dcb818fc",
   "metadata": {},
   "source": [
    "Дальше скрипт, выгружающий данные по каждому айди из списка, который создали чуть раньше."
   ]
  },
  {
   "cell_type": "code",
   "execution_count": 7,
   "id": "efb4fa71",
   "metadata": {},
   "outputs": [],
   "source": [
    "for i in sunflower_ids:\n",
    "    i = str(i)\n",
    "    link_true = link + i\n",
    "    r_test = requests.get(link_true)\n",
    "    obj_test = r_test.json()\n",
    "\n",
    "    df_1 = pd.DataFrame(obj_test, columns = ['objectID', \n",
    "                                       'title', \n",
    "                                       'artistDisplayName', \n",
    "                                       'department', \n",
    "                                       'objectBeginDate', \n",
    "                                       'objectEndDate', \n",
    "                                       'period', \n",
    "                                       'objectName', \n",
    "                                       'culture'], \n",
    "                                        index=['objectID'])\n",
    "    df = pd.concat([df, df_1])\n"
   ]
  },
  {
   "cell_type": "code",
   "execution_count": 8,
   "id": "02af6723",
   "metadata": {},
   "outputs": [
    {
     "data": {
      "text/html": [
       "<div>\n",
       "<style scoped>\n",
       "    .dataframe tbody tr th:only-of-type {\n",
       "        vertical-align: middle;\n",
       "    }\n",
       "\n",
       "    .dataframe tbody tr th {\n",
       "        vertical-align: top;\n",
       "    }\n",
       "\n",
       "    .dataframe thead th {\n",
       "        text-align: right;\n",
       "    }\n",
       "</style>\n",
       "<table border=\"1\" class=\"dataframe\">\n",
       "  <thead>\n",
       "    <tr style=\"text-align: right;\">\n",
       "      <th></th>\n",
       "      <th>objectID</th>\n",
       "      <th>title</th>\n",
       "      <th>artistDisplayName</th>\n",
       "      <th>department</th>\n",
       "      <th>objectBeginDate</th>\n",
       "      <th>objectEndDate</th>\n",
       "      <th>period</th>\n",
       "      <th>objectName</th>\n",
       "      <th>culture</th>\n",
       "    </tr>\n",
       "  </thead>\n",
       "  <tbody>\n",
       "    <tr>\n",
       "      <th>objectID</th>\n",
       "      <td>436524</td>\n",
       "      <td>Sunflowers</td>\n",
       "      <td>Vincent van Gogh</td>\n",
       "      <td>European Paintings</td>\n",
       "      <td>1887</td>\n",
       "      <td>1887</td>\n",
       "      <td></td>\n",
       "      <td>Painting</td>\n",
       "      <td></td>\n",
       "    </tr>\n",
       "    <tr>\n",
       "      <th>objectID</th>\n",
       "      <td>484935</td>\n",
       "      <td>Sunflowers</td>\n",
       "      <td>Edward McKnight Kauffer</td>\n",
       "      <td>Modern and Contemporary Art</td>\n",
       "      <td>1921</td>\n",
       "      <td>1921</td>\n",
       "      <td></td>\n",
       "      <td>Painting</td>\n",
       "      <td></td>\n",
       "    </tr>\n",
       "    <tr>\n",
       "      <th>objectID</th>\n",
       "      <td>437112</td>\n",
       "      <td>Bouquet of Sunflowers</td>\n",
       "      <td>Claude Monet</td>\n",
       "      <td>European Paintings</td>\n",
       "      <td>1881</td>\n",
       "      <td>1881</td>\n",
       "      <td></td>\n",
       "      <td>Painting</td>\n",
       "      <td></td>\n",
       "    </tr>\n",
       "    <tr>\n",
       "      <th>objectID</th>\n",
       "      <td>210191</td>\n",
       "      <td>Vase with sunflowers</td>\n",
       "      <td>Rozenburg Plateelfabriek</td>\n",
       "      <td>European Sculpture and Decorative Arts</td>\n",
       "      <td>1896</td>\n",
       "      <td>1896</td>\n",
       "      <td></td>\n",
       "      <td>Vase</td>\n",
       "      <td></td>\n",
       "    </tr>\n",
       "    <tr>\n",
       "      <th>objectID</th>\n",
       "      <td>431264</td>\n",
       "      <td>Sunflowers</td>\n",
       "      <td>Lily Converse</td>\n",
       "      <td>Drawings and Prints</td>\n",
       "      <td>1941</td>\n",
       "      <td>1941</td>\n",
       "      <td></td>\n",
       "      <td>Print</td>\n",
       "      <td></td>\n",
       "    </tr>\n",
       "    <tr>\n",
       "      <th>...</th>\n",
       "      <td>...</td>\n",
       "      <td>...</td>\n",
       "      <td>...</td>\n",
       "      <td>...</td>\n",
       "      <td>...</td>\n",
       "      <td>...</td>\n",
       "      <td>...</td>\n",
       "      <td>...</td>\n",
       "      <td>...</td>\n",
       "    </tr>\n",
       "    <tr>\n",
       "      <th>objectID</th>\n",
       "      <td>437980</td>\n",
       "      <td>Cypresses</td>\n",
       "      <td>Vincent van Gogh</td>\n",
       "      <td>European Paintings</td>\n",
       "      <td>1889</td>\n",
       "      <td>1889</td>\n",
       "      <td></td>\n",
       "      <td>Painting</td>\n",
       "      <td></td>\n",
       "    </tr>\n",
       "    <tr>\n",
       "      <th>objectID</th>\n",
       "      <td>724844</td>\n",
       "      <td>Design for Embroidery with Two Large Garlands ...</td>\n",
       "      <td>Italian School</td>\n",
       "      <td>Drawings and Prints</td>\n",
       "      <td>1845</td>\n",
       "      <td>1905</td>\n",
       "      <td></td>\n",
       "      <td>Drawing Ornament &amp; Architecture</td>\n",
       "      <td></td>\n",
       "    </tr>\n",
       "    <tr>\n",
       "      <th>objectID</th>\n",
       "      <td>834585</td>\n",
       "      <td>A Life in a Year–The Garden–Noon, from \"Pictur...</td>\n",
       "      <td>Arthur Boyd Houghton</td>\n",
       "      <td>Drawings and Prints</td>\n",
       "      <td>1866</td>\n",
       "      <td>1874</td>\n",
       "      <td></td>\n",
       "      <td>Print</td>\n",
       "      <td></td>\n",
       "    </tr>\n",
       "    <tr>\n",
       "      <th>objectID</th>\n",
       "      <td>834580</td>\n",
       "      <td>A Life in a Year–The Garden–Noon, from \"Pictur...</td>\n",
       "      <td>Arthur Boyd Houghton</td>\n",
       "      <td>Drawings and Prints</td>\n",
       "      <td>1866</td>\n",
       "      <td>1874</td>\n",
       "      <td></td>\n",
       "      <td>Print</td>\n",
       "      <td></td>\n",
       "    </tr>\n",
       "    <tr>\n",
       "      <th>objectID</th>\n",
       "      <td>834765</td>\n",
       "      <td>A Child's Garden, from \"Picture Poesies\"</td>\n",
       "      <td>Arthur Boyd Houghton</td>\n",
       "      <td>Drawings and Prints</td>\n",
       "      <td>1865</td>\n",
       "      <td>1874</td>\n",
       "      <td></td>\n",
       "      <td>Print</td>\n",
       "      <td></td>\n",
       "    </tr>\n",
       "  </tbody>\n",
       "</table>\n",
       "<p>86 rows × 9 columns</p>\n",
       "</div>"
      ],
      "text/plain": [
       "         objectID                                              title  \\\n",
       "objectID   436524                                         Sunflowers   \n",
       "objectID   484935                                         Sunflowers   \n",
       "objectID   437112                              Bouquet of Sunflowers   \n",
       "objectID   210191                               Vase with sunflowers   \n",
       "objectID   431264                                         Sunflowers   \n",
       "...           ...                                                ...   \n",
       "objectID   437980                                          Cypresses   \n",
       "objectID   724844  Design for Embroidery with Two Large Garlands ...   \n",
       "objectID   834585  A Life in a Year–The Garden–Noon, from \"Pictur...   \n",
       "objectID   834580  A Life in a Year–The Garden–Noon, from \"Pictur...   \n",
       "objectID   834765           A Child's Garden, from \"Picture Poesies\"   \n",
       "\n",
       "                 artistDisplayName                              department  \\\n",
       "objectID          Vincent van Gogh                      European Paintings   \n",
       "objectID   Edward McKnight Kauffer             Modern and Contemporary Art   \n",
       "objectID              Claude Monet                      European Paintings   \n",
       "objectID  Rozenburg Plateelfabriek  European Sculpture and Decorative Arts   \n",
       "objectID             Lily Converse                     Drawings and Prints   \n",
       "...                            ...                                     ...   \n",
       "objectID          Vincent van Gogh                      European Paintings   \n",
       "objectID            Italian School                     Drawings and Prints   \n",
       "objectID      Arthur Boyd Houghton                     Drawings and Prints   \n",
       "objectID      Arthur Boyd Houghton                     Drawings and Prints   \n",
       "objectID      Arthur Boyd Houghton                     Drawings and Prints   \n",
       "\n",
       "         objectBeginDate objectEndDate period  \\\n",
       "objectID            1887          1887          \n",
       "objectID            1921          1921          \n",
       "objectID            1881          1881          \n",
       "objectID            1896          1896          \n",
       "objectID            1941          1941          \n",
       "...                  ...           ...    ...   \n",
       "objectID            1889          1889          \n",
       "objectID            1845          1905          \n",
       "objectID            1866          1874          \n",
       "objectID            1866          1874          \n",
       "objectID            1865          1874          \n",
       "\n",
       "                               objectName culture  \n",
       "objectID                         Painting          \n",
       "objectID                         Painting          \n",
       "objectID                         Painting          \n",
       "objectID                             Vase          \n",
       "objectID                            Print          \n",
       "...                                   ...     ...  \n",
       "objectID                         Painting          \n",
       "objectID  Drawing Ornament & Architecture          \n",
       "objectID                            Print          \n",
       "objectID                            Print          \n",
       "objectID                            Print          \n",
       "\n",
       "[86 rows x 9 columns]"
      ]
     },
     "execution_count": 8,
     "metadata": {},
     "output_type": "execute_result"
    }
   ],
   "source": [
    "df"
   ]
  },
  {
   "cell_type": "markdown",
   "id": "984ddc5d",
   "metadata": {},
   "source": [
    "Проанализируем, к какой культуре относятся выгруженные объекты"
   ]
  },
  {
   "cell_type": "code",
   "execution_count": 10,
   "id": "4e2475e2",
   "metadata": {},
   "outputs": [
    {
     "data": {
      "text/plain": [
       "                    71\n",
       "American             9\n",
       "Japan                1\n",
       "British              1\n",
       "Ancestral Pueblo     1\n",
       "Name: culture, dtype: int64"
      ]
     },
     "execution_count": 10,
     "metadata": {},
     "output_type": "execute_result"
    }
   ],
   "source": [
    "df.culture.value_counts()"
   ]
  },
  {
   "cell_type": "code",
   "execution_count": null,
   "id": "595dca8a",
   "metadata": {},
   "outputs": [],
   "source": []
  },
  {
   "cell_type": "markdown",
   "id": "0b0790c0",
   "metadata": {},
   "source": [
    "Далее чуть более сложный запрос. Выгрузим данные по объектам музея из департамента \"Asian art\" (departmentId = 6) с тегом \"cats\". Возьмем данные о первой тысяче объектов."
   ]
  },
  {
   "cell_type": "code",
   "execution_count": 18,
   "id": "13cb7580",
   "metadata": {},
   "outputs": [],
   "source": [
    "df_for_cats = pd.DataFrame(columns = ['objectID', \n",
    "                                       'title', \n",
    "                                       'artistDisplayName', \n",
    "                                       'department', \n",
    "                                       'objectBeginDate', \n",
    "                                       'objectEndDate', \n",
    "                                       'period', \n",
    "                                       'objectName', \n",
    "                                       'culture'], \n",
    "                                        )"
   ]
  },
  {
   "cell_type": "code",
   "execution_count": 17,
   "id": "fdd2c17b",
   "metadata": {},
   "outputs": [],
   "source": [
    "r_ = requests.get('https://collectionapi.metmuseum.org/public/collection/v1/search?departmentId=6&q=cat')\n",
    "cats = r.json()\n",
    "cats_list = cats['objectIDs']"
   ]
  },
  {
   "cell_type": "code",
   "execution_count": 13,
   "id": "b6d3d0ea",
   "metadata": {},
   "outputs": [],
   "source": [
    "for i in cats_list[0:1000]:\n",
    "    i = str(i)\n",
    "    link_true = link + i\n",
    "    r_test = requests.get(link_true)\n",
    "    obj_test = r_test.json()\n",
    "\n",
    "    df_1 = pd.DataFrame(obj_test, columns = ['objectID', \n",
    "                                       'title', \n",
    "                                       'artistDisplayName', \n",
    "                                       'department', \n",
    "                                       'objectBeginDate', \n",
    "                                       'objectEndDate', \n",
    "                                       'period', \n",
    "                                       'objectName', \n",
    "                                       'culture'], \n",
    "                                        index=['objectID'])\n",
    "    df_for_cats = pd.concat([df_for_cats, df_1])"
   ]
  },
  {
   "cell_type": "markdown",
   "id": "2e51987a",
   "metadata": {},
   "source": [
    "Посмотрим, к какому периоду относятся объекты с тегом \"cats\"."
   ]
  },
  {
   "cell_type": "code",
   "execution_count": 19,
   "id": "a8e8113d",
   "metadata": {},
   "outputs": [
    {
     "data": {
      "text/plain": [
       "Edo period (1615–1868)                                   448\n",
       "                                                         181\n",
       "Qing dynasty (1644–1911)                                  56\n",
       "Ming dynasty (1368–1644)                                  39\n",
       "Muromachi period (1392–1573)                              30\n",
       "                                                        ... \n",
       "Mughal period (1526–1858)                                  1\n",
       "Muromachi (1392–1573)–Edo period (1615–1868)               1\n",
       "Asuka period (538–710)                                     1\n",
       "late Northern Song (960–1127)–Jin (1115–1234) dynasty      1\n",
       "late Edo (1615–1868)-early Meiji period (1868–1912)        1\n",
       "Name: period, Length: 109, dtype: int64"
      ]
     },
     "execution_count": 19,
     "metadata": {},
     "output_type": "execute_result"
    }
   ],
   "source": [
    "df_for_cats.period.value_counts()"
   ]
  },
  {
   "cell_type": "code",
   "execution_count": null,
   "id": "ef79a8d2",
   "metadata": {},
   "outputs": [],
   "source": []
  },
  {
   "cell_type": "code",
   "execution_count": null,
   "id": "a3d0cb5b",
   "metadata": {},
   "outputs": [],
   "source": []
  },
  {
   "cell_type": "code",
   "execution_count": null,
   "id": "cc89ff5e",
   "metadata": {},
   "outputs": [],
   "source": []
  },
  {
   "cell_type": "code",
   "execution_count": null,
   "id": "32d110ce",
   "metadata": {},
   "outputs": [],
   "source": []
  }
 ],
 "metadata": {
  "kernelspec": {
   "display_name": "Python 3 (ipykernel)",
   "language": "python",
   "name": "python3"
  },
  "language_info": {
   "codemirror_mode": {
    "name": "ipython",
    "version": 3
   },
   "file_extension": ".py",
   "mimetype": "text/x-python",
   "name": "python",
   "nbconvert_exporter": "python",
   "pygments_lexer": "ipython3",
   "version": "3.9.12"
  }
 },
 "nbformat": 4,
 "nbformat_minor": 5
}
